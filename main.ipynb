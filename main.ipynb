{
 "cells": [
  {
   "cell_type": "code",
   "execution_count": 1,
   "id": "26fc35aa",
   "metadata": {},
   "outputs": [],
   "source": [
    "import pandas as pd"
   ]
  },
  {
   "cell_type": "code",
   "execution_count": 50,
   "id": "d151fbd6",
   "metadata": {},
   "outputs": [
    {
     "data": {
      "text/html": [
       "<div>\n",
       "<style scoped>\n",
       "    .dataframe tbody tr th:only-of-type {\n",
       "        vertical-align: middle;\n",
       "    }\n",
       "\n",
       "    .dataframe tbody tr th {\n",
       "        vertical-align: top;\n",
       "    }\n",
       "\n",
       "    .dataframe thead th {\n",
       "        text-align: right;\n",
       "    }\n",
       "</style>\n",
       "<table border=\"1\" class=\"dataframe\">\n",
       "  <thead>\n",
       "    <tr style=\"text-align: right;\">\n",
       "      <th></th>\n",
       "      <th>cash_id</th>\n",
       "      <th>cash_name</th>\n",
       "      <th>sale_sum</th>\n",
       "    </tr>\n",
       "  </thead>\n",
       "  <tbody>\n",
       "    <tr>\n",
       "      <th>0</th>\n",
       "      <td>5</td>\n",
       "      <td>ККМ №6 (Кофемат)</td>\n",
       "      <td>199.98</td>\n",
       "    </tr>\n",
       "    <tr>\n",
       "      <th>1</th>\n",
       "      <td>6</td>\n",
       "      <td>КСО2</td>\n",
       "      <td>209807.91</td>\n",
       "    </tr>\n",
       "    <tr>\n",
       "      <th>2</th>\n",
       "      <td>7</td>\n",
       "      <td>КСО1</td>\n",
       "      <td>112335.55</td>\n",
       "    </tr>\n",
       "    <tr>\n",
       "      <th>3</th>\n",
       "      <td>8</td>\n",
       "      <td>КСО2</td>\n",
       "      <td>71465.34</td>\n",
       "    </tr>\n",
       "    <tr>\n",
       "      <th>4</th>\n",
       "      <td>9</td>\n",
       "      <td>КСО3</td>\n",
       "      <td>29865.31</td>\n",
       "    </tr>\n",
       "  </tbody>\n",
       "</table>\n",
       "</div>"
      ],
      "text/plain": [
       "   cash_id         cash_name   sale_sum\n",
       "0        5  ККМ №6 (Кофемат)     199.98\n",
       "1        6              КСО2  209807.91\n",
       "2        7             КСО1   112335.55\n",
       "3        8             КСО2    71465.34\n",
       "4        9             КСО3    29865.31"
      ]
     },
     "execution_count": 50,
     "metadata": {},
     "output_type": "execute_result"
    }
   ],
   "source": [
    "cashier = pd.read_excel(\"data\\Продажи по кассам.xlsx\")\n",
    "reference = pd.read_excel(\"data\\Справочник касс.xlsx\")\n",
    "cashier.head()"
   ]
  },
  {
   "cell_type": "code",
   "execution_count": 51,
   "id": "e17b8d99",
   "metadata": {},
   "outputs": [
    {
     "data": {
      "text/html": [
       "<div>\n",
       "<style scoped>\n",
       "    .dataframe tbody tr th:only-of-type {\n",
       "        vertical-align: middle;\n",
       "    }\n",
       "\n",
       "    .dataframe tbody tr th {\n",
       "        vertical-align: top;\n",
       "    }\n",
       "\n",
       "    .dataframe thead th {\n",
       "        text-align: right;\n",
       "    }\n",
       "</style>\n",
       "<table border=\"1\" class=\"dataframe\">\n",
       "  <thead>\n",
       "    <tr style=\"text-align: right;\">\n",
       "      <th></th>\n",
       "      <th>cash_id</th>\n",
       "      <th>cash_name</th>\n",
       "      <th>store_id</th>\n",
       "      <th>store_name</th>\n",
       "    </tr>\n",
       "  </thead>\n",
       "  <tbody>\n",
       "    <tr>\n",
       "      <th>0</th>\n",
       "      <td>1</td>\n",
       "      <td>ККМ №23 Vmcash</td>\n",
       "      <td>183</td>\n",
       "      <td>Командор №72</td>\n",
       "    </tr>\n",
       "    <tr>\n",
       "      <th>1</th>\n",
       "      <td>2</td>\n",
       "      <td>ККМ №2</td>\n",
       "      <td>450</td>\n",
       "      <td>Командор №338</td>\n",
       "    </tr>\n",
       "    <tr>\n",
       "      <th>2</th>\n",
       "      <td>3</td>\n",
       "      <td>ККМ №51 Vmcash</td>\n",
       "      <td>124</td>\n",
       "      <td>Командор №51</td>\n",
       "    </tr>\n",
       "    <tr>\n",
       "      <th>3</th>\n",
       "      <td>4</td>\n",
       "      <td>ККМ №3</td>\n",
       "      <td>393</td>\n",
       "      <td>Командор №297</td>\n",
       "    </tr>\n",
       "    <tr>\n",
       "      <th>4</th>\n",
       "      <td>5</td>\n",
       "      <td>ККМ №6 (Кофемат)</td>\n",
       "      <td>199</td>\n",
       "      <td>Командор №116</td>\n",
       "    </tr>\n",
       "    <tr>\n",
       "      <th>...</th>\n",
       "      <td>...</td>\n",
       "      <td>...</td>\n",
       "      <td>...</td>\n",
       "      <td>...</td>\n",
       "    </tr>\n",
       "    <tr>\n",
       "      <th>3583</th>\n",
       "      <td>3584</td>\n",
       "      <td>ККМ №11 (Терминал)</td>\n",
       "      <td>160</td>\n",
       "      <td>Командор №81</td>\n",
       "    </tr>\n",
       "    <tr>\n",
       "      <th>3584</th>\n",
       "      <td>3585</td>\n",
       "      <td>КСО №2</td>\n",
       "      <td>608</td>\n",
       "      <td>Командор №484</td>\n",
       "    </tr>\n",
       "    <tr>\n",
       "      <th>3585</th>\n",
       "      <td>3586</td>\n",
       "      <td>ККМ №1</td>\n",
       "      <td>608</td>\n",
       "      <td>Командор №484</td>\n",
       "    </tr>\n",
       "    <tr>\n",
       "      <th>3586</th>\n",
       "      <td>3587</td>\n",
       "      <td>КСО №3</td>\n",
       "      <td>608</td>\n",
       "      <td>Командор №484</td>\n",
       "    </tr>\n",
       "    <tr>\n",
       "      <th>3587</th>\n",
       "      <td>3588</td>\n",
       "      <td>КСО №1</td>\n",
       "      <td>608</td>\n",
       "      <td>Командор №484</td>\n",
       "    </tr>\n",
       "  </tbody>\n",
       "</table>\n",
       "<p>3588 rows × 4 columns</p>\n",
       "</div>"
      ],
      "text/plain": [
       "      cash_id           cash_name  store_id     store_name\n",
       "0           1      ККМ №23 Vmcash       183   Командор №72\n",
       "1           2              ККМ №2       450  Командор №338\n",
       "2           3      ККМ №51 Vmcash       124   Командор №51\n",
       "3           4              ККМ №3       393  Командор №297\n",
       "4           5    ККМ №6 (Кофемат)       199  Командор №116\n",
       "...       ...                 ...       ...            ...\n",
       "3583     3584  ККМ №11 (Терминал)       160   Командор №81\n",
       "3584     3585              КСО №2       608  Командор №484\n",
       "3585     3586              ККМ №1       608  Командор №484\n",
       "3586     3587              КСО №3       608  Командор №484\n",
       "3587     3588              КСО №1       608  Командор №484\n",
       "\n",
       "[3588 rows x 4 columns]"
      ]
     },
     "execution_count": 51,
     "metadata": {},
     "output_type": "execute_result"
    }
   ],
   "source": [
    "reference"
   ]
  },
  {
   "cell_type": "code",
   "execution_count": 52,
   "id": "bc5b6ba8",
   "metadata": {},
   "outputs": [
    {
     "data": {
      "text/html": [
       "<div>\n",
       "<style scoped>\n",
       "    .dataframe tbody tr th:only-of-type {\n",
       "        vertical-align: middle;\n",
       "    }\n",
       "\n",
       "    .dataframe tbody tr th {\n",
       "        vertical-align: top;\n",
       "    }\n",
       "\n",
       "    .dataframe thead th {\n",
       "        text-align: right;\n",
       "    }\n",
       "</style>\n",
       "<table border=\"1\" class=\"dataframe\">\n",
       "  <thead>\n",
       "    <tr style=\"text-align: right;\">\n",
       "      <th></th>\n",
       "      <th>cash_id</th>\n",
       "      <th>cash_name</th>\n",
       "      <th>store_id</th>\n",
       "      <th>store_name</th>\n",
       "    </tr>\n",
       "  </thead>\n",
       "  <tbody>\n",
       "    <tr>\n",
       "      <th>0</th>\n",
       "      <td>1</td>\n",
       "      <td>ККМ №23 Vmcash</td>\n",
       "      <td>183</td>\n",
       "      <td>Командор №72</td>\n",
       "    </tr>\n",
       "    <tr>\n",
       "      <th>1</th>\n",
       "      <td>2</td>\n",
       "      <td>ККМ №2</td>\n",
       "      <td>450</td>\n",
       "      <td>Командор №338</td>\n",
       "    </tr>\n",
       "    <tr>\n",
       "      <th>2</th>\n",
       "      <td>3</td>\n",
       "      <td>ККМ №51 Vmcash</td>\n",
       "      <td>124</td>\n",
       "      <td>Командор №51</td>\n",
       "    </tr>\n",
       "    <tr>\n",
       "      <th>3</th>\n",
       "      <td>4</td>\n",
       "      <td>ККМ №3</td>\n",
       "      <td>393</td>\n",
       "      <td>Командор №297</td>\n",
       "    </tr>\n",
       "    <tr>\n",
       "      <th>4</th>\n",
       "      <td>5</td>\n",
       "      <td>ККМ №6 (Кофемат)</td>\n",
       "      <td>199</td>\n",
       "      <td>Командор №116</td>\n",
       "    </tr>\n",
       "  </tbody>\n",
       "</table>\n",
       "</div>"
      ],
      "text/plain": [
       "   cash_id         cash_name  store_id     store_name\n",
       "0        1    ККМ №23 Vmcash       183   Командор №72\n",
       "1        2            ККМ №2       450  Командор №338\n",
       "2        3    ККМ №51 Vmcash       124   Командор №51\n",
       "3        4            ККМ №3       393  Командор №297\n",
       "4        5  ККМ №6 (Кофемат)       199  Командор №116"
      ]
     },
     "execution_count": 52,
     "metadata": {},
     "output_type": "execute_result"
    }
   ],
   "source": [
    "reference.head()"
   ]
  },
  {
   "cell_type": "code",
   "execution_count": 53,
   "id": "da8fc9bc",
   "metadata": {},
   "outputs": [
    {
     "data": {
      "text/plain": [
       "np.False_"
      ]
     },
     "execution_count": 53,
     "metadata": {},
     "output_type": "execute_result"
    }
   ],
   "source": [
    "cashier.duplicated(subset=[\"cash_id\"]).any()"
   ]
  },
  {
   "cell_type": "code",
   "execution_count": 54,
   "id": "a40a6d0b",
   "metadata": {},
   "outputs": [
    {
     "data": {
      "text/plain": [
       "np.False_"
      ]
     },
     "execution_count": 54,
     "metadata": {},
     "output_type": "execute_result"
    }
   ],
   "source": [
    "reference.duplicated(subset=[\"cash_id\"]).any()"
   ]
  },
  {
   "cell_type": "markdown",
   "id": "2f5f1443",
   "metadata": {},
   "source": [
    "Дубликатов нет. Колонку cash_id сделаем индексом"
   ]
  },
  {
   "cell_type": "code",
   "execution_count": 55,
   "id": "9a764341",
   "metadata": {},
   "outputs": [],
   "source": [
    "cashier.set_index(\"cash_id\", inplace=True)\n",
    "reference.set_index(\"cash_id\", inplace=True)\n"
   ]
  },
  {
   "cell_type": "code",
   "execution_count": 56,
   "id": "871e6fa8",
   "metadata": {},
   "outputs": [],
   "source": [
    "joined = cashier.join(reference, on=\"cash_id\", lsuffix='_cash', rsuffix='_ref')"
   ]
  },
  {
   "cell_type": "code",
   "execution_count": 57,
   "id": "f3ffa5b7",
   "metadata": {},
   "outputs": [
    {
     "data": {
      "text/html": [
       "<div>\n",
       "<style scoped>\n",
       "    .dataframe tbody tr th:only-of-type {\n",
       "        vertical-align: middle;\n",
       "    }\n",
       "\n",
       "    .dataframe tbody tr th {\n",
       "        vertical-align: top;\n",
       "    }\n",
       "\n",
       "    .dataframe thead th {\n",
       "        text-align: right;\n",
       "    }\n",
       "</style>\n",
       "<table border=\"1\" class=\"dataframe\">\n",
       "  <thead>\n",
       "    <tr style=\"text-align: right;\">\n",
       "      <th></th>\n",
       "      <th>cash_name_cash</th>\n",
       "      <th>sale_sum</th>\n",
       "      <th>cash_name_ref</th>\n",
       "      <th>store_id</th>\n",
       "      <th>store_name</th>\n",
       "    </tr>\n",
       "    <tr>\n",
       "      <th>cash_id</th>\n",
       "      <th></th>\n",
       "      <th></th>\n",
       "      <th></th>\n",
       "      <th></th>\n",
       "      <th></th>\n",
       "    </tr>\n",
       "  </thead>\n",
       "  <tbody>\n",
       "    <tr>\n",
       "      <th>5</th>\n",
       "      <td>ККМ №6 (Кофемат)</td>\n",
       "      <td>199.98</td>\n",
       "      <td>ККМ №6 (Кофемат)</td>\n",
       "      <td>199</td>\n",
       "      <td>Командор №116</td>\n",
       "    </tr>\n",
       "    <tr>\n",
       "      <th>6</th>\n",
       "      <td>КСО2</td>\n",
       "      <td>209807.91</td>\n",
       "      <td>КСО2</td>\n",
       "      <td>260</td>\n",
       "      <td>Командор №172</td>\n",
       "    </tr>\n",
       "    <tr>\n",
       "      <th>7</th>\n",
       "      <td>КСО1</td>\n",
       "      <td>112335.55</td>\n",
       "      <td>КСО1</td>\n",
       "      <td>7</td>\n",
       "      <td>Командор №4</td>\n",
       "    </tr>\n",
       "    <tr>\n",
       "      <th>8</th>\n",
       "      <td>КСО2</td>\n",
       "      <td>71465.34</td>\n",
       "      <td>КСО2</td>\n",
       "      <td>7</td>\n",
       "      <td>Командор №4</td>\n",
       "    </tr>\n",
       "    <tr>\n",
       "      <th>9</th>\n",
       "      <td>КСО3</td>\n",
       "      <td>29865.31</td>\n",
       "      <td>КСО3</td>\n",
       "      <td>7</td>\n",
       "      <td>Командор №4</td>\n",
       "    </tr>\n",
       "    <tr>\n",
       "      <th>...</th>\n",
       "      <td>...</td>\n",
       "      <td>...</td>\n",
       "      <td>...</td>\n",
       "      <td>...</td>\n",
       "      <td>...</td>\n",
       "    </tr>\n",
       "    <tr>\n",
       "      <th>2652</th>\n",
       "      <td>КСО №2</td>\n",
       "      <td>63565.38</td>\n",
       "      <td>КСО №2</td>\n",
       "      <td>75</td>\n",
       "      <td>Командор №27</td>\n",
       "    </tr>\n",
       "    <tr>\n",
       "      <th>2653</th>\n",
       "      <td>КСО3</td>\n",
       "      <td>50076.60</td>\n",
       "      <td>КСО3</td>\n",
       "      <td>181</td>\n",
       "      <td>Командор №102</td>\n",
       "    </tr>\n",
       "    <tr>\n",
       "      <th>2654</th>\n",
       "      <td>КСО2</td>\n",
       "      <td>34063.47</td>\n",
       "      <td>КСО2</td>\n",
       "      <td>181</td>\n",
       "      <td>Командор №102</td>\n",
       "    </tr>\n",
       "    <tr>\n",
       "      <th>2655</th>\n",
       "      <td>КСО4</td>\n",
       "      <td>105258.60</td>\n",
       "      <td>КСО4</td>\n",
       "      <td>181</td>\n",
       "      <td>Командор №102</td>\n",
       "    </tr>\n",
       "    <tr>\n",
       "      <th>2656</th>\n",
       "      <td>КСО1</td>\n",
       "      <td>91173.09</td>\n",
       "      <td>КСО1</td>\n",
       "      <td>181</td>\n",
       "      <td>Командор №102</td>\n",
       "    </tr>\n",
       "  </tbody>\n",
       "</table>\n",
       "<p>1648 rows × 5 columns</p>\n",
       "</div>"
      ],
      "text/plain": [
       "           cash_name_cash   sale_sum     cash_name_ref  store_id  \\\n",
       "cash_id                                                            \n",
       "5        ККМ №6 (Кофемат)     199.98  ККМ №6 (Кофемат)       199   \n",
       "6                    КСО2  209807.91              КСО2       260   \n",
       "7                   КСО1   112335.55             КСО1          7   \n",
       "8                   КСО2    71465.34             КСО2          7   \n",
       "9                   КСО3    29865.31             КСО3          7   \n",
       "...                   ...        ...               ...       ...   \n",
       "2652               КСО №2   63565.38            КСО №2        75   \n",
       "2653                 КСО3   50076.60              КСО3       181   \n",
       "2654                 КСО2   34063.47              КСО2       181   \n",
       "2655                 КСО4  105258.60              КСО4       181   \n",
       "2656                 КСО1   91173.09              КСО1       181   \n",
       "\n",
       "            store_name  \n",
       "cash_id                 \n",
       "5        Командор №116  \n",
       "6        Командор №172  \n",
       "7          Командор №4  \n",
       "8          Командор №4  \n",
       "9          Командор №4  \n",
       "...                ...  \n",
       "2652      Командор №27  \n",
       "2653     Командор №102  \n",
       "2654     Командор №102  \n",
       "2655     Командор №102  \n",
       "2656     Командор №102  \n",
       "\n",
       "[1648 rows x 5 columns]"
      ]
     },
     "execution_count": 57,
     "metadata": {},
     "output_type": "execute_result"
    }
   ],
   "source": [
    "joined"
   ]
  },
  {
   "cell_type": "markdown",
   "id": "b56bba31",
   "metadata": {},
   "source": [
    "### Агрегация"
   ]
  },
  {
   "cell_type": "code",
   "execution_count": 93,
   "id": "512d380f",
   "metadata": {},
   "outputs": [
    {
     "data": {
      "text/html": [
       "<div>\n",
       "<style scoped>\n",
       "    .dataframe tbody tr th:only-of-type {\n",
       "        vertical-align: middle;\n",
       "    }\n",
       "\n",
       "    .dataframe tbody tr th {\n",
       "        vertical-align: top;\n",
       "    }\n",
       "\n",
       "    .dataframe thead th {\n",
       "        text-align: right;\n",
       "    }\n",
       "</style>\n",
       "<table border=\"1\" class=\"dataframe\">\n",
       "  <thead>\n",
       "    <tr style=\"text-align: right;\">\n",
       "      <th></th>\n",
       "      <th>sale_sum</th>\n",
       "    </tr>\n",
       "    <tr>\n",
       "      <th>store_id</th>\n",
       "      <th></th>\n",
       "    </tr>\n",
       "  </thead>\n",
       "  <tbody>\n",
       "    <tr>\n",
       "      <th>3</th>\n",
       "      <td>592471.59</td>\n",
       "    </tr>\n",
       "    <tr>\n",
       "      <th>5</th>\n",
       "      <td>1129652.40</td>\n",
       "    </tr>\n",
       "    <tr>\n",
       "      <th>7</th>\n",
       "      <td>989422.15</td>\n",
       "    </tr>\n",
       "    <tr>\n",
       "      <th>16</th>\n",
       "      <td>770074.33</td>\n",
       "    </tr>\n",
       "    <tr>\n",
       "      <th>22</th>\n",
       "      <td>6842874.38</td>\n",
       "    </tr>\n",
       "  </tbody>\n",
       "</table>\n",
       "</div>"
      ],
      "text/plain": [
       "            sale_sum\n",
       "store_id            \n",
       "3          592471.59\n",
       "5         1129652.40\n",
       "7          989422.15\n",
       "16         770074.33\n",
       "22        6842874.38"
      ]
     },
     "execution_count": 93,
     "metadata": {},
     "output_type": "execute_result"
    }
   ],
   "source": [
    "aggregated = joined.groupby([\"store_id\"]).agg({\n",
    "    \"sale_sum\": \"sum\",\n",
    "}).round(2)\n",
    "aggregated.head()\n"
   ]
  },
  {
   "cell_type": "code",
   "execution_count": 94,
   "id": "b041cad0",
   "metadata": {},
   "outputs": [
    {
     "data": {
      "text/plain": [
       "sale_sum    885658.82\n",
       "Name: 48, dtype: float64"
      ]
     },
     "execution_count": 94,
     "metadata": {},
     "output_type": "execute_result"
    }
   ],
   "source": [
    "aggregated.iloc[9]"
   ]
  },
  {
   "cell_type": "code",
   "execution_count": 85,
   "id": "1a888727",
   "metadata": {},
   "outputs": [
    {
     "data": {
      "text/html": [
       "<div>\n",
       "<style scoped>\n",
       "    .dataframe tbody tr th:only-of-type {\n",
       "        vertical-align: middle;\n",
       "    }\n",
       "\n",
       "    .dataframe tbody tr th {\n",
       "        vertical-align: top;\n",
       "    }\n",
       "\n",
       "    .dataframe thead th {\n",
       "        text-align: right;\n",
       "    }\n",
       "</style>\n",
       "<table border=\"1\" class=\"dataframe\">\n",
       "  <thead>\n",
       "    <tr style=\"text-align: right;\">\n",
       "      <th></th>\n",
       "      <th>store_name</th>\n",
       "      <th>sale_sum</th>\n",
       "    </tr>\n",
       "    <tr>\n",
       "      <th>store_id</th>\n",
       "      <th></th>\n",
       "      <th></th>\n",
       "    </tr>\n",
       "  </thead>\n",
       "  <tbody>\n",
       "    <tr>\n",
       "      <th>3</th>\n",
       "      <td>Командор №2</td>\n",
       "      <td>592471.59</td>\n",
       "    </tr>\n",
       "    <tr>\n",
       "      <th>5</th>\n",
       "      <td>Командор №3</td>\n",
       "      <td>1129652.40</td>\n",
       "    </tr>\n",
       "    <tr>\n",
       "      <th>7</th>\n",
       "      <td>Командор №4</td>\n",
       "      <td>989422.15</td>\n",
       "    </tr>\n",
       "    <tr>\n",
       "      <th>16</th>\n",
       "      <td>Командор №6</td>\n",
       "      <td>770074.33</td>\n",
       "    </tr>\n",
       "    <tr>\n",
       "      <th>22</th>\n",
       "      <td>Командор №7</td>\n",
       "      <td>6842874.38</td>\n",
       "    </tr>\n",
       "  </tbody>\n",
       "</table>\n",
       "</div>"
      ],
      "text/plain": [
       "           store_name    sale_sum\n",
       "store_id                         \n",
       "3         Командор №2   592471.59\n",
       "5         Командор №3  1129652.40\n",
       "7         Командор №4   989422.15\n",
       "16        Командор №6   770074.33\n",
       "22        Командор №7  6842874.38"
      ]
     },
     "execution_count": 85,
     "metadata": {},
     "output_type": "execute_result"
    }
   ],
   "source": [
    "store = pd.read_excel(\"data\\Продажи по магазинам.xlsx\", index_col=\"store_id\")\n",
    "store.head()"
   ]
  },
  {
   "cell_type": "code",
   "execution_count": 78,
   "id": "649cf758",
   "metadata": {},
   "outputs": [
    {
     "data": {
      "text/plain": [
       "True"
      ]
     },
     "execution_count": 78,
     "metadata": {},
     "output_type": "execute_result"
    }
   ],
   "source": [
    "len(store) == len(aggregated)"
   ]
  },
  {
   "cell_type": "code",
   "execution_count": 101,
   "id": "f4a9bceb",
   "metadata": {},
   "outputs": [
    {
     "data": {
      "text/html": [
       "<div>\n",
       "<style scoped>\n",
       "    .dataframe tbody tr th:only-of-type {\n",
       "        vertical-align: middle;\n",
       "    }\n",
       "\n",
       "    .dataframe tbody tr th {\n",
       "        vertical-align: top;\n",
       "    }\n",
       "\n",
       "    .dataframe thead th {\n",
       "        text-align: right;\n",
       "    }\n",
       "</style>\n",
       "<table border=\"1\" class=\"dataframe\">\n",
       "  <thead>\n",
       "    <tr style=\"text-align: right;\">\n",
       "      <th></th>\n",
       "      <th>sale_sum</th>\n",
       "      <th>store_sale_sum</th>\n",
       "    </tr>\n",
       "    <tr>\n",
       "      <th>store_id</th>\n",
       "      <th></th>\n",
       "      <th></th>\n",
       "    </tr>\n",
       "  </thead>\n",
       "  <tbody>\n",
       "    <tr>\n",
       "      <th>90</th>\n",
       "      <td>984625.66</td>\n",
       "      <td>984825.66</td>\n",
       "    </tr>\n",
       "    <tr>\n",
       "      <th>144</th>\n",
       "      <td>1083058.49</td>\n",
       "      <td>1083090.49</td>\n",
       "    </tr>\n",
       "  </tbody>\n",
       "</table>\n",
       "</div>"
      ],
      "text/plain": [
       "            sale_sum  store_sale_sum\n",
       "store_id                            \n",
       "90         984625.66       984825.66\n",
       "144       1083058.49      1083090.49"
      ]
     },
     "execution_count": 101,
     "metadata": {},
     "output_type": "execute_result"
    }
   ],
   "source": [
    "diff_mask = aggregated[\"sale_sum\"] != store[\"sale_sum\"]\n",
    "mismatched = aggregated[diff_mask].copy()\n",
    "mismatched[\"store_sale_sum\"] = store.loc[diff_mask, \"sale_sum\"]\n",
    "mismatched[[\"sale_sum\", \"store_sale_sum\"]]"
   ]
  },
  {
   "cell_type": "code",
   "execution_count": 102,
   "id": "3c0ff899",
   "metadata": {},
   "outputs": [],
   "source": [
    "\n",
    "common_index = aggregated.index.intersection(store.index)"
   ]
  }
 ],
 "metadata": {
  "kernelspec": {
   "display_name": "komandor",
   "language": "python",
   "name": "python3"
  },
  "language_info": {
   "codemirror_mode": {
    "name": "ipython",
    "version": 3
   },
   "file_extension": ".py",
   "mimetype": "text/x-python",
   "name": "python",
   "nbconvert_exporter": "python",
   "pygments_lexer": "ipython3",
   "version": "3.10.19"
  }
 },
 "nbformat": 4,
 "nbformat_minor": 5
}
